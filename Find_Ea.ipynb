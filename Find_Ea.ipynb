{
  "nbformat": 4,
  "nbformat_minor": 0,
  "metadata": {
    "colab": {
      "provenance": [],
      "authorship_tag": "ABX9TyN/3MDAq4AC2zP9hvH3sxgD",
      "include_colab_link": true
    },
    "kernelspec": {
      "name": "python3",
      "display_name": "Python 3"
    },
    "language_info": {
      "name": "python"
    }
  },
  "cells": [
    {
      "cell_type": "markdown",
      "metadata": {
        "id": "view-in-github",
        "colab_type": "text"
      },
      "source": [
        "<a href=\"https://colab.research.google.com/github/DougChul/Ferroelectric-ThinFilm-Poling/blob/main/Find_Ea.ipynb\" target=\"_parent\"><img src=\"https://colab.research.google.com/assets/colab-badge.svg\" alt=\"Open In Colab\"/></a>"
      ]
    },
    {
      "cell_type": "code",
      "execution_count": null,
      "metadata": {
        "colab": {
          "base_uri": "https://localhost:8080/"
        },
        "id": "LCzUgfXQdwT8",
        "outputId": "4b5ab83a-201a-4b60-d753-1c7b9f253ce5"
      },
      "outputs": [
        {
          "output_type": "stream",
          "name": "stdout",
          "text": [
            "Ea= 67740947.0081329\n",
            "Q= 0.0159051602473855\n"
          ]
        }
      ],
      "source": [
        "import pandas as pd\n",
        "import numpy as np\n",
        "\n",
        "file_path='PV_UD.csv'\n",
        "\n",
        "data = pd.read_csv(file_path)\n",
        "\n",
        "t=data.iloc[:,0]\n",
        "V=data.iloc[:,1]\n",
        "P=data.iloc[:,3]\n",
        "\n",
        "t=t.iloc[0:1000]\n",
        "V=V.iloc[0:1000]\n",
        "P=P.iloc[0:1000]\n",
        "\n",
        "Area=276*276e-12\n",
        "Thickness=10e-9\n",
        "\n",
        "C=8.854e-12*25*Area/Thickness\n",
        "\n",
        "Q_C=C*V/Area\n",
        "\n",
        "PnoQ=P-Q_C\n",
        "\n",
        "Ea=V.iloc[np.argmin(np.abs(PnoQ))]/Thickness\n",
        "\n",
        "print('Ea=',Ea)\n",
        "\n",
        "print('Q=',8.854e-12*25*0.718552529811859/10e-9)\n"
      ]
    }
  ]
}